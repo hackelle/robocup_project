{
 "cells": [
  {
   "cell_type": "code",
   "execution_count": 1,
   "metadata": {},
   "outputs": [],
   "source": [
    "import cv2\n",
    "import os\n",
    "import numpy as np"
   ]
  },
  {
   "cell_type": "code",
   "execution_count": 2,
   "metadata": {},
   "outputs": [],
   "source": [
    "PATH_TO_IMAGES = '/home/jasper/dev/robocup_project/reference-images'\n",
    "TEST_IMAGES = map(lambda f: os.path.join(PATH_TO_IMAGES, f),\n",
    "                  os.listdir(PATH_TO_IMAGES))"
   ]
  },
  {
   "cell_type": "code",
   "execution_count": 9,
   "metadata": {},
   "outputs": [],
   "source": [
    "def img_edges(path, thresh_1, thresh_2):\n",
    "    gray = cv2.imread(path, 0)\n",
    "    gray = cv2.cvtColor(gray, cv2.COLOR_GRAY2BGR)\n",
    "    edges = cv2.Canny(gray, thresh_1, thresh_2)\n",
    "    edges = cv2.cvtColor(edges, cv2.COLOR_GRAY2BGR)\n",
    "    overlayed = cv2.addWeighted(gray, 0.5, edges, 0.5, 0)\n",
    "    cv2.namedWindow(path)\n",
    "    cv2.resizeWindow(path, 600, 800)\n",
    "    cv2.imshow(path, overlayed)\n",
    "    key = cv2.waitKey(0)\n",
    "    cv2.destroyAllWindows()\n",
    "    return key"
   ]
  },
  {
   "cell_type": "code",
   "execution_count": 10,
   "metadata": {},
   "outputs": [],
   "source": [
    "T1, T2 = 20, 200\n",
    "\n",
    "for path in TEST_IMAGES:\n",
    "    if img_edges(path, T1, T2) == 27:  # ESC\n",
    "        break"
   ]
  },
  {
   "cell_type": "code",
   "execution_count": null,
   "metadata": {},
   "outputs": [],
   "source": []
  }
 ],
 "metadata": {
  "kernelspec": {
   "display_name": "Python 3",
   "language": "python",
   "name": "python3"
  },
  "language_info": {
   "codemirror_mode": {
    "name": "ipython",
    "version": 3
   },
   "file_extension": ".py",
   "mimetype": "text/x-python",
   "name": "python",
   "nbconvert_exporter": "python",
   "pygments_lexer": "ipython3",
   "version": "3.7.0"
  }
 },
 "nbformat": 4,
 "nbformat_minor": 2
}
